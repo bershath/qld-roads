{
 "cells": [
  {
   "cell_type": "code",
   "execution_count": null,
   "metadata": {
    "collapsed": true
   },
   "outputs": [],
   "source": [
    "\"\"\"\n",
    "    Author : Tyronne Wickramarathne\n",
    "    Date   : 27-10-2021\n",
    "    Description : This application illustrates the driver demographic in a line chart. This is a Demo application to test IntelliJ's Dataspell IDE.\n",
    "                  The dataset has been obtained from the official QLD Government website.\n",
    "    E mail :\n",
    "\"\"\"\n",
    "import pandas as pd\n",
    "import numpy as np\n",
    "import warnings\n",
    "warnings.filterwarnings('ignore')"
   ]
  },
  {
   "cell_type": "code",
   "execution_count": null,
   "outputs": [],
   "source": [
    "data = pd.read_csv(\"data/b_driverdemographics.csv\",low_memory=False)\n",
    "data.head().transpose()"
   ],
   "metadata": {
    "collapsed": false,
    "pycharm": {
     "name": "#%%\n"
    }
   }
  },
  {
   "cell_type": "code",
   "execution_count": null,
   "outputs": [],
   "source": [
    "print('The data set contains crashes between',data['Crash_Year'].min(), 'and ',data['Crash_Year'].max(), 'years of crash data')\n"
   ],
   "metadata": {
    "collapsed": false,
    "pycharm": {
     "name": "#%%\n"
    }
   }
  },
  {
   "cell_type": "code",
   "execution_count": null,
   "outputs": [],
   "source": [
    "data.shape"
   ],
   "metadata": {
    "collapsed": false,
    "pycharm": {
     "name": "#%%\n"
    }
   }
  },
  {
   "cell_type": "code",
   "execution_count": null,
   "outputs": [],
   "source": [
    "bars = data[['Crash_Year','Involving_Young_Driver_16-24','Involving_Senior_Driver_60plus','Involving_Provisional_Driver','Involving_Unlicensed_Driver','Involving_Overseas_Licensed_Driver']]\n",
    "bars[\"Involving_Young_Driver_16-24\"].replace({\"No\": 0, \"Yes\": 1}, inplace=True)\n",
    "bars[\"Involving_Senior_Driver_60plus\"].replace({\"No\": 0, \"Yes\": 1}, inplace=True)\n",
    "bars[\"Involving_Provisional_Driver\"].replace({\"No\": 0, \"Yes\": 1}, inplace=True)\n",
    "bars[\"Involving_Unlicensed_Driver\"].replace({\"No\": 0, \"Yes\": 1}, inplace=True)\n",
    "bars[\"Involving_Overseas_Licensed_Driver\"].replace({\"No\": 0, \"Yes\": 1}, inplace=True)\n",
    "bars = bars.rename(columns={'Involving_Young_Driver_16-24': 'Young Drivers: 16-24','Involving_Senior_Driver_60plus':'Senior Drivers: 60+','Involving_Provisional_Driver':'Provisional Drivers','Involving_Unlicensed_Driver':'Unlicensed Drivers','Involving_Overseas_Licensed_Driver':'Overseas Licensed Drivers'})\n",
    "\n",
    "bars_new = bars.groupby(['Crash_Year']).sum().reindex()\n",
    "bars_new.head()"
   ],
   "metadata": {
    "collapsed": false,
    "pycharm": {
     "name": "#%%\n"
    }
   }
  },
  {
   "cell_type": "code",
   "execution_count": null,
   "outputs": [],
   "source": [
    "yticks = np.arange(0, 600, 50)\n",
    "xticks = np.arange(2001, 2021, 1)\n",
    "# from collections import OrderedDict\n",
    "# cmaps = OrderedDict()\n",
    "# cmaps['Sequential'] = ['Greys', 'Purples', 'Blues', 'Greens', 'Oranges', 'Reds','YlOrBr', 'YlOrRd', 'OrRd', 'PuRd', 'RdPu', 'BuPu','GnBu', 'PuBu', 'YlGnBu', 'PuBuGn', 'BuGn', 'YlGn']\n",
    "# cols = ['red','blue','orange','purple','green','purple']\n",
    "ignore = bars_new.plot.line(linewidth=4, figsize=(16, 10), ylabel='Number of Crashes',xlabel='Crash Year', title='QLD road crashes by the driver demographics (c) Rusty Ty', xticks=xticks, yticks=yticks, grid=True)\n"
   ],
   "metadata": {
    "collapsed": false,
    "pycharm": {
     "name": "#%%\n"
    }
   }
  }
 ],
 "metadata": {
  "kernelspec": {
   "display_name": "Python 3",
   "language": "python",
   "name": "python3"
  },
  "language_info": {
   "codemirror_mode": {
    "name": "ipython",
    "version": 2
   },
   "file_extension": ".py",
   "mimetype": "text/x-python",
   "name": "python",
   "nbconvert_exporter": "python",
   "pygments_lexer": "ipython2",
   "version": "2.7.6"
  }
 },
 "nbformat": 4,
 "nbformat_minor": 0
}